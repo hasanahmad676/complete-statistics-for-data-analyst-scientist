{
 "cells": [
  {
   "cell_type": "markdown",
   "id": "b363468f",
   "metadata": {},
   "source": [
    "\n",
    "<img src=\"download.png\" style=\"width:100px height:200px\"/>"
   ]
  },
  {
   "cell_type": "markdown",
   "id": "2bbe4268",
   "metadata": {},
   "source": [
    "Population: when we work with all the data of a dataset to find any information is called Population.\n",
    "it's denote as N . its mean is (μ) = ∑X / N OR (μ) = 1/N∑(Xi) "
   ]
  },
  {
   "cell_type": "code",
   "execution_count": 1,
   "id": "83b4880c",
   "metadata": {},
   "outputs": [],
   "source": [
    "population = [1, 2, 3, 4, 5, 6, 7, 8, 9, 10]"
   ]
  },
  {
   "cell_type": "code",
   "execution_count": 6,
   "id": "e90fe73b",
   "metadata": {},
   "outputs": [],
   "source": [
    "population_mean = sum(population)/10"
   ]
  },
  {
   "cell_type": "code",
   "execution_count": 7,
   "id": "c1a31459",
   "metadata": {},
   "outputs": [
    {
     "data": {
      "text/plain": [
       "5.5"
      ]
     },
     "execution_count": 7,
     "metadata": {},
     "output_type": "execute_result"
    }
   ],
   "source": [
    "population_mean"
   ]
  },
  {
   "cell_type": "code",
   "execution_count": 11,
   "id": "3f8152d6",
   "metadata": {},
   "outputs": [],
   "source": [
    "mean=1/10*(1+2+3+4+5+6+7+8+9+10)"
   ]
  },
  {
   "cell_type": "code",
   "execution_count": 12,
   "id": "50101ae3",
   "metadata": {},
   "outputs": [
    {
     "data": {
      "text/plain": [
       "5.5"
      ]
     },
     "execution_count": 12,
     "metadata": {},
     "output_type": "execute_result"
    }
   ],
   "source": [
    "mean"
   ]
  },
  {
   "cell_type": "markdown",
   "id": "d71d3bca",
   "metadata": {},
   "source": [
    "A subset of a larger population that contains characteristics of that population.Sample mean represents the measure of the center of the data.Sample Mean Formula\n",
    "\n",
    "The sample mean formula is written as\n",
    "Sample Mean = (Sum of terms) ÷ (Number of Terms) =∑Xi/n ;Where,\n",
    "1. ∑xi= sum of terms\n",
    "2. n = number of terms\n"
   ]
  },
  {
   "cell_type": "code",
   "execution_count": 13,
   "id": "2e08ac80",
   "metadata": {},
   "outputs": [
    {
     "name": "stdout",
     "output_type": "stream",
     "text": [
      "Random Sample: [4, 2, 3, 8, 10]\n",
      "Sum of the Random Sample: 27\n"
     ]
    }
   ],
   "source": [
    "import random\n",
    "\n",
    "# Create the population\n",
    "population = [1, 2, 3, 4, 5, 6, 7, 8, 9, 10]\n",
    "\n",
    "# Set the sample size\n",
    "sample_size = 5\n",
    "\n",
    "# Random Sampling\n",
    "random_sample = random.sample(population, sample_size)\n",
    "\n",
    "# Calculate the sum of the sample\n",
    "sample_sum = sum(random_sample)\n",
    "\n",
    "# Print the sample and its sum\n",
    "print(\"Random Sample:\", random_sample)\n",
    "print(\"Sum of the Random Sample:\", sample_sum)\n"
   ]
  },
  {
   "cell_type": "markdown",
   "id": "2213e234",
   "metadata": {},
   "source": [
    "Types of sampling\n",
    "1. simple random sample\n",
    "2. systemitc sampling\n",
    "3. Stratified Sampling\n",
    "4. Cluster Sampling\n",
    "5. Convenience Sampling"
   ]
  },
  {
   "cell_type": "code",
   "execution_count": 14,
   "id": "d09c2e11",
   "metadata": {},
   "outputs": [
    {
     "name": "stdout",
     "output_type": "stream",
     "text": [
      "[2, 8, 3, 4, 7]\n"
     ]
    }
   ],
   "source": [
    "#Randomly selects data points from a population without any specific criteria.\n",
    "import random\n",
    "\n",
    "population = [1, 2, 3, 4, 5, 6, 7, 8, 9, 10]\n",
    "sample_size = 5\n",
    "\n",
    "random_sample = random.sample(population, sample_size)\n",
    "print(random_sample)\n"
   ]
  },
  {
   "cell_type": "code",
   "execution_count": 15,
   "id": "3cca690b",
   "metadata": {},
   "outputs": [
    {
     "name": "stdout",
     "output_type": "stream",
     "text": [
      "[2, 4, 6, 8, 10]\n"
     ]
    }
   ],
   "source": [
    "#Selects every kth element from a population after randomly selecting a starting point\n",
    "population = [1, 2, 3, 4, 5, 6, 7, 8, 9, 10]\n",
    "k = 2\n",
    "\n",
    "starting_point = random.randint(0, k-1)\n",
    "systematic_sample = population[starting_point::k]\n",
    "print(systematic_sample)\n"
   ]
  },
  {
   "cell_type": "code",
   "execution_count": 17,
   "id": "0463c487",
   "metadata": {},
   "outputs": [
    {
     "name": "stdout",
     "output_type": "stream",
     "text": [
      "Train samples: [7, 2, 4, 8, 10, 3, 9]\n",
      "Test samples: [1, 6, 5]\n"
     ]
    }
   ],
   "source": [
    "\n",
    "#Divides the population into distinct subgroups (strata) based on certain characteristics and then samples from each subgroup.\n",
    "# not overlapping groups\n",
    "from sklearn.model_selection import train_test_split\n",
    "\n",
    "population = [1, 2, 3, 4, 5, 6, 7, 8, 9, 10]\n",
    "labels = [0, 1, 0, 1, 0, 1, 0, 1, 0, 1]\n",
    "test_size = 0.3\n",
    "\n",
    "train_samples, test_samples, train_labels, test_labels = train_test_split(\n",
    "    population, labels, test_size=test_size, stratify=labels)\n",
    "\n",
    "print(\"Train samples:\", train_samples)\n",
    "print(\"Test samples:\", test_samples)\n"
   ]
  },
  {
   "cell_type": "code",
   "execution_count": 18,
   "id": "41246654",
   "metadata": {},
   "outputs": [
    {
     "name": "stdout",
     "output_type": "stream",
     "text": [
      "[6, 7, 1, 2]\n"
     ]
    }
   ],
   "source": [
    "#Divides the population into clusters, randomly selects some clusters, and includes all members of the selected clusters in the sample.\n",
    "import random\n",
    "\n",
    "population = [1, 2, 3, 4, 5, 6, 7, 8, 9, 10]\n",
    "clusters = [[1, 2], [3, 4, 5], [6, 7], [8, 9, 10]]\n",
    "cluster_sample_size = 2\n",
    "\n",
    "selected_clusters = random.sample(clusters, cluster_sample_size)\n",
    "cluster_sample = [item for cluster in selected_clusters for item in cluster]\n",
    "print(cluster_sample)\n"
   ]
  },
  {
   "cell_type": "code",
   "execution_count": 19,
   "id": "6f8e9798",
   "metadata": {},
   "outputs": [
    {
     "name": "stdout",
     "output_type": "stream",
     "text": [
      "[4, 2, 3, 3, 7]\n"
     ]
    }
   ],
   "source": [
    "#Involves selecting samples based on convenience or accessibility, often leading to biased results.\n",
    "population = [1, 2, 3, 4, 5, 6, 7, 8, 9, 10]\n",
    "sample_size = 5\n",
    "\n",
    "convenience_sample = random.choices(population, k=sample_size)\n",
    "print(convenience_sample)\n"
   ]
  },
  {
   "cell_type": "code",
   "execution_count": null,
   "id": "8d3d6b25",
   "metadata": {},
   "outputs": [],
   "source": []
  },
  {
   "cell_type": "code",
   "execution_count": null,
   "id": "3c51c10a",
   "metadata": {},
   "outputs": [],
   "source": []
  },
  {
   "cell_type": "code",
   "execution_count": null,
   "id": "f292e068",
   "metadata": {},
   "outputs": [],
   "source": []
  },
  {
   "cell_type": "code",
   "execution_count": null,
   "id": "91d8b7c3",
   "metadata": {},
   "outputs": [],
   "source": []
  },
  {
   "cell_type": "code",
   "execution_count": null,
   "id": "4f8e4eac",
   "metadata": {},
   "outputs": [],
   "source": []
  }
 ],
 "metadata": {
  "kernelspec": {
   "display_name": "Python 3 (ipykernel)",
   "language": "python",
   "name": "python3"
  },
  "language_info": {
   "codemirror_mode": {
    "name": "ipython",
    "version": 3
   },
   "file_extension": ".py",
   "mimetype": "text/x-python",
   "name": "python",
   "nbconvert_exporter": "python",
   "pygments_lexer": "ipython3",
   "version": "3.9.13"
  }
 },
 "nbformat": 4,
 "nbformat_minor": 5
}
